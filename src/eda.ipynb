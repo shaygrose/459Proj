{
 "metadata": {
  "language_info": {
   "codemirror_mode": {
    "name": "ipython",
    "version": 3
   },
   "file_extension": ".py",
   "mimetype": "text/x-python",
   "name": "python",
   "nbconvert_exporter": "python",
   "pygments_lexer": "ipython3",
   "version": "3.8.3-final"
  },
  "orig_nbformat": 2,
  "kernelspec": {
   "name": "python3",
   "display_name": "Python 3",
   "language": "python"
  }
 },
 "nbformat": 4,
 "nbformat_minor": 2,
 "cells": [
  {
   "source": [
    "## TASK 1.1"
   ],
   "cell_type": "markdown",
   "metadata": {}
  },
  {
   "cell_type": "code",
   "execution_count": 9,
   "metadata": {},
   "outputs": [],
   "source": [
    "import pandas as pd\n",
    "import numpy as np\n",
    "import csv"
   ]
  },
  {
   "source": [
    "Perform exploratory data analysis to get an understanding of the datasets. Show visualizations and statistics for all attributes of both datasets for which that makes sense. It does not make sense, e.g., for textual attributes such as the description. For some attributes, e.g. longitude and latitude, it may make sense to visualize the combination of two attributes. Finally, for every attribute print the number of missing values."
   ],
   "cell_type": "markdown",
   "metadata": {}
  },
  {
   "cell_type": "code",
   "execution_count": 10,
   "metadata": {},
   "outputs": [],
   "source": [
    "# READING IN DATA\n",
    "test = pd.read_csv(\"../data/cases_test.csv\")\n",
    "train = pd.read_csv(\"../data/cases_train.csv\")\n",
    "locations = pd.read_csv(\"../data/location.csv\")"
   ]
  },
  {
   "source": [
    "cases test attributes =  age,sex,province,country,latitude,longitude,date confirmation,additional information,source,outcome  \n",
    "cases train attributes =  age,sex,province,country,latitude,longitude,date confirmation,additional information,source,outcome  \n",
    "locations attributes = Province State,Country Region,Last Update,Lat,Long,Confirmed,Deaths,Recovered,Active,Combined Key,Incidence Rate,Case Fatality Ratio  \n"
   ],
   "cell_type": "markdown",
   "metadata": {}
  },
  {
   "cell_type": "code",
   "execution_count": 12,
   "metadata": {},
   "outputs": [
    {
     "output_type": "stream",
     "name": "stdout",
     "text": [
      "Nember of missing values in test data:\nage                       25516\nsex                       25199\nprovince                    573\ncountry                       0\nlatitude                      0\nlongitude                     0\ndate_confirmation            49\nadditional_information    43490\nsource                    16903\noutcome                   46500\ndtype: int64\nNember of missing values in training data:\nage                       209265\nsex                       207084\nprovince                    4106\ncountry                       18\nlatitude                       2\nlongitude                      2\ndate_confirmation            288\nadditional_information    344912\nsource                    128478\noutcome                        0\ndtype: int64\nNember of missing values in location data:\nProvince_State         168\nCountry_Region           0\nLast_Update              0\nLat                     80\nLong_                   80\nConfirmed                0\nDeaths                   0\nRecovered                0\nActive                   2\nCombined_Key             0\nIncidence_Rate          80\nCase-Fatality_Ratio     48\ndtype: int64\n"
     ]
    }
   ],
   "source": [
    "# Number of missing values\n",
    "print(\"Nember of missing values in test data:\")\n",
    "print(test.isnull().sum())\n",
    "print(\"Nember of missing values in training data:\")\n",
    "print(train.isnull().sum())\n",
    "print(\"Nember of missing values in location data:\")\n",
    "print(locations.isnull().sum())\n"
   ]
  },
  {
   "cell_type": "code",
   "execution_count": null,
   "metadata": {},
   "outputs": [],
   "source": []
  }
 ]
}